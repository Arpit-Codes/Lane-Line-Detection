{
 "cells": [
  {
   "cell_type": "code",
   "execution_count": 7,
   "id": "aab41f33",
   "metadata": {},
   "outputs": [],
   "source": [
    "#importing necessary libraries\n",
    "import time\n",
    "import matplotlib.pylab as plt\n",
    "from tensorflow.keras.models import load_model\n",
    "import cv2\n",
    "import numpy as np\n",
    "import tkinter as tk\n",
    "from PIL import Image, ImageTk\n",
    "from tkinter.filedialog import askopenfile\n",
    "import import_ipynb\n",
    "from Lane_Detection import LaneDetection\n",
    "from tkinter import *\n",
    "from PIL import ImageTk, Image\n",
    "from tkinter.filedialog import askopenfile"
   ]
  },
  {
   "cell_type": "code",
   "execution_count": 8,
   "id": "1d2e77d4",
   "metadata": {},
   "outputs": [],
   "source": [
    "obj = LaneDetection()"
   ]
  },
  {
   "cell_type": "code",
   "execution_count": 9,
   "id": "24470c24",
   "metadata": {},
   "outputs": [],
   "source": [
    "def back(vid):\n",
    "    vid.destroy()\n",
    "    main()\n",
    "    "
   ]
  },
  {
   "cell_type": "code",
   "execution_count": 10,
   "id": "2b317a59",
   "metadata": {},
   "outputs": [],
   "source": [
    "def open_file(root):\n",
    "    \n",
    "    \n",
    "    file = askopenfile(parent=root, mode='r', title=\"Choose a file\", filetypes=[(\"Video file\", \"*.mp4\")])\n",
    "    path = file.name\n",
    "    \n",
    "    cap = cv2.VideoCapture(path)\n",
    "    \n",
    "    root.destroy()\n",
    "    vid = Tk()\n",
    "    vid.title('Lane Line Detection')\n",
    "    vid.geometry('800x720')\n",
    "    \n",
    "    \n",
    "    \n",
    "    bg = PhotoImage(file=\"background.png\")\n",
    "\n",
    "    #create a label\n",
    "    my_label = Label(vid, image=bg)\n",
    "    my_label.place(x=0,y=0, relwidth=1, relheight=1)\n",
    "\n",
    "    \n",
    "    # Create a label in the frame\n",
    "    lmain = Label(vid)\n",
    "    lmain.place(x=242, y=242)\n",
    "    \n",
    "    back_btn = Button(vid, text = \"BACK\",command = lambda :back(vid), font=\"Raleway\", bg=\"#e39610\", fg=\"black\", height=2, width=15)\n",
    "    back_btn.place(x=310, y=600)\n",
    "    \n",
    "    def rec():\n",
    "        img = obj.stream_vid(cap)\n",
    "        img = Image.fromarray(img)\n",
    "        imgtk = ImageTk.PhotoImage(image=img)\n",
    "        lmain.imgtk = imgtk\n",
    "        lmain.configure(image=imgtk)\n",
    "        lmain.after(1, rec)\n",
    "    \n",
    "    rec()\n",
    "    vid.mainloop()\n",
    "    cap.release()"
   ]
  },
  {
   "cell_type": "code",
   "execution_count": 11,
   "id": "cea713fb",
   "metadata": {},
   "outputs": [],
   "source": [
    "def main():\n",
    "    \n",
    "    root = Tk()\n",
    "    root.title('Lane Line Detection')\n",
    "    root.geometry(\"800x720\")\n",
    "\n",
    "    bg = PhotoImage(file=\"background.png\")\n",
    "\n",
    "    #create a label\n",
    "    my_label = Label(root, image=bg)\n",
    "    my_label.place(x=0,y=0, relwidth=1, relheight=1)\n",
    "\n",
    "\n",
    "\n",
    "    browse_text1 = StringVar()\n",
    "    browse_btn1 = Button(root, textvariable=browse_text1, command = lambda :open_file(root), font=\"Raleway\", bg=\"#e39610\", fg=\"black\", height=2, width=15)\n",
    "    browse_text1.set(\"UPLOAD VIDEO\")\n",
    "    browse_btn1.place(x=310, y=500)\n",
    "\n",
    "\n",
    "    \n",
    "    root.mainloop()"
   ]
  },
  {
   "cell_type": "code",
   "execution_count": null,
   "id": "7c1dc9bf",
   "metadata": {
    "scrolled": true
   },
   "outputs": [],
   "source": [
    "main()"
   ]
  },
  {
   "cell_type": "code",
   "execution_count": null,
   "id": "f32dcf6d",
   "metadata": {},
   "outputs": [],
   "source": []
  },
  {
   "cell_type": "code",
   "execution_count": null,
   "id": "3e4ef7b7",
   "metadata": {},
   "outputs": [],
   "source": []
  }
 ],
 "metadata": {
  "kernelspec": {
   "display_name": "Python 3 (ipykernel)",
   "language": "python",
   "name": "python3"
  },
  "language_info": {
   "codemirror_mode": {
    "name": "ipython",
    "version": 3
   },
   "file_extension": ".py",
   "mimetype": "text/x-python",
   "name": "python",
   "nbconvert_exporter": "python",
   "pygments_lexer": "ipython3",
   "version": "3.9.12"
  }
 },
 "nbformat": 4,
 "nbformat_minor": 5
}
